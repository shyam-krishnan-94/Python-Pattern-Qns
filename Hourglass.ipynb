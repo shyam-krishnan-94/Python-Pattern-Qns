{
  "nbformat": 4,
  "nbformat_minor": 0,
  "metadata": {
    "colab": {
      "provenance": []
    },
    "kernelspec": {
      "name": "python3",
      "display_name": "Python 3"
    },
    "language_info": {
      "name": "python"
    }
  },
  "cells": [
    {
      "cell_type": "code",
      "execution_count": 1,
      "metadata": {
        "id": "_7jP7cotenYM"
      },
      "outputs": [],
      "source": [
        "def generate_sandglass(n):\n",
        "    \"\"\"\n",
        "    Function to return a sandglass pattern of '*' of side n as a list of strings.\n",
        "\n",
        "    Parameters:\n",
        "    n (int): The height of the sandglass.\n",
        "\n",
        "    Returns:\n",
        "    list: A list of strings where each string represents a row of the sandglass pattern.\n",
        "    \"\"\"\n",
        "    # Your code here\n",
        "    Lst=[]\n",
        "    if n>=1 and n<=100:\n",
        "        for i in range(0,n):\n",
        "            num_stars=((2*n)-1-(2*i))\n",
        "            num_spaces=i\n",
        "            Lst.append(\" \"*num_spaces+\"*\"*num_stars+\" \"*num_spaces)\n",
        "        for j in range(n+1,2*n):\n",
        "            num_spaces=(2*n)-1-j\n",
        "            num_stars=(2*(j-n))+1\n",
        "            Lst.append(\" \"*num_spaces+\"*\"*num_stars+\" \"*num_spaces)\n",
        "        return Lst\n",
        "    return None"
      ]
    },
    {
      "cell_type": "code",
      "source": [
        "print(generate_sandglass(5))"
      ],
      "metadata": {
        "colab": {
          "base_uri": "https://localhost:8080/"
        },
        "id": "3A7-m49QewsK",
        "outputId": "aa89156e-787e-4b6a-ace2-c08170b2c444"
      },
      "execution_count": 2,
      "outputs": [
        {
          "output_type": "stream",
          "name": "stdout",
          "text": [
            "['*********', ' ******* ', '  *****  ', '   ***   ', '    *    ', '   ***   ', '  *****  ', ' ******* ', '*********']\n"
          ]
        }
      ]
    }
  ]
}