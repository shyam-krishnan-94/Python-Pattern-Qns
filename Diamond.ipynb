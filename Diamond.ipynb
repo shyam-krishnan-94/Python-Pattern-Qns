{
  "nbformat": 4,
  "nbformat_minor": 0,
  "metadata": {
    "colab": {
      "provenance": []
    },
    "kernelspec": {
      "name": "python3",
      "display_name": "Python 3"
    },
    "language_info": {
      "name": "python"
    }
  },
  "cells": [
    {
      "cell_type": "code",
      "execution_count": 1,
      "metadata": {
        "id": "Q6za5NELdm6H"
      },
      "outputs": [],
      "source": [
        "def generate_diamond(n):\n",
        "    \"\"\"\n",
        "    Function to return a diamond pattern of '*' of side n as a list of strings.\n",
        "\n",
        "    Parameters:\n",
        "    n (int): The number of rows for the upper part of the diamond.\n",
        "\n",
        "    Returns:\n",
        "    list: A list of strings where each string represents a row of the diamond.\n",
        "    \"\"\"\n",
        "    # Your code here\n",
        "    Lst=[]\n",
        "    if (n>=1 and n<=100):\n",
        "        for i in range(0,n):\n",
        "            space_normal=n-1-i\n",
        "            star_count=((2*n)-1)-(2*space_normal)\n",
        "            Lst.append(\" \"*(space_normal)+\"*\"*(star_count)+\" \"*(space_normal))\n",
        "\n",
        "\n",
        "        for j in range(n+1,2*n):\n",
        "            space_invert=j-n\n",
        "            star_count_inverted=((2*n)-1)-(2*space_invert)\n",
        "            Lst.append(\" \"*(space_invert)+\"*\"*(star_count_inverted)+\" \"*(space_invert))\n",
        "\n",
        "        return Lst\n",
        "    else:\n",
        "        return None"
      ]
    },
    {
      "cell_type": "code",
      "source": [
        "print(generate_diamond(5))"
      ],
      "metadata": {
        "colab": {
          "base_uri": "https://localhost:8080/"
        },
        "id": "Z21qFEI6dyru",
        "outputId": "423177df-9d51-442c-94d7-c76736d7d9b3"
      },
      "execution_count": 2,
      "outputs": [
        {
          "output_type": "stream",
          "name": "stdout",
          "text": [
            "['    *    ', '   ***   ', '  *****  ', ' ******* ', '*********', ' ******* ', '  *****  ', '   ***   ', '    *    ']\n"
          ]
        }
      ]
    }
  ]
}