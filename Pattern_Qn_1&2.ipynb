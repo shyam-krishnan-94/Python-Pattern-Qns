{
  "nbformat": 4,
  "nbformat_minor": 0,
  "metadata": {
    "colab": {
      "provenance": []
    },
    "kernelspec": {
      "name": "python3",
      "display_name": "Python 3"
    },
    "language_info": {
      "name": "python"
    }
  },
  "cells": [
    {
      "cell_type": "code",
      "execution_count": 3,
      "metadata": {
        "id": "66K_6QzSd_vQ"
      },
      "outputs": [],
      "source": [
        "#Pattern solid Square\n",
        "def generate_square(n):\n",
        "    \"\"\"\n",
        "    Function to return a square pattern of '*' of side n as a list of strings.\n",
        "\n",
        "    Parameters:\n",
        "    n (int): The size of the square.\n",
        "\n",
        "    Returns:\n",
        "    list: A list of strings where each string represents a row of the square.\n",
        "    \"\"\"\n",
        "    # Your code here\n",
        "    \"\"\"\n",
        "    Pseudo code\n",
        "    Declare an empty list\n",
        "    since the o/p has to be on a list of length n with each element of the list being a string of size n\n",
        "    for i in range(1,n+1):\n",
        "    L.append(\"*\"*n)\n",
        "    after loop ends, we will print the output\n",
        "\n",
        "    \"\"\"\n",
        "    L=[]\n",
        "    if n==0:\n",
        "        return None\n",
        "\n",
        "    else:\n",
        "        for i in range(1,n+1):\n",
        "            L.append(\"*\"*n)\n",
        "        return L\n",
        ""
      ]
    },
    {
      "cell_type": "code",
      "source": [
        "print(generate_square(5))"
      ],
      "metadata": {
        "colab": {
          "base_uri": "https://localhost:8080/"
        },
        "id": "zso3ODDPeE1G",
        "outputId": "28275e5f-9f11-4f39-b8df-cf3d2d3aac16"
      },
      "execution_count": 5,
      "outputs": [
        {
          "output_type": "stream",
          "name": "stdout",
          "text": [
            "['*****', '*****', '*****', '*****', '*****']\n"
          ]
        }
      ]
    },
    {
      "cell_type": "code",
      "source": [
        "#Hollow-Square Pattern\n",
        "def generate_hollow_square(n):\n",
        "    \"\"\"\n",
        "    Function to return a hollow square pattern of '*' of side n as a list of strings.\n",
        "\n",
        "    Parameters:\n",
        "    n (int): The size of the square.\n",
        "\n",
        "    Returns:\n",
        "    list: A list of strings where each string represents a row of the hollow square.\n",
        "    \"\"\"\n",
        "    # Your code here\n",
        "    \"\"\"\n",
        "    Pseudo code\n",
        "    if n=0,\n",
        "    return None\n",
        "    \"\"\"\n",
        "    L=[]\n",
        "    if n==0:\n",
        "        return None\n",
        "    elif n==1 or n==2:\n",
        "        for i in range(0,n):\n",
        "            L.append(\"*\"*n)\n",
        "        return L\n",
        "    else:\n",
        "        for i in range(1,n+1):\n",
        "            if i==1 or i==n:\n",
        "                L.append(\"*\"*n)\n",
        "            else:\n",
        "                L.append(\"*\"+\" \"*(n-2)+\"*\")\n",
        "        return L\n",
        "\n",
        "    \"\"\"\n",
        "    if n=1 or n=2\n",
        "    for i -> (1,n+1):\n",
        "    L.append('*'*n)\n",
        "    return L\n",
        "    \"\"\"\n",
        "\n",
        "\n"
      ],
      "metadata": {
        "id": "eE6bwCuhwewO"
      },
      "execution_count": 7,
      "outputs": []
    },
    {
      "cell_type": "code",
      "source": [
        "generate_hollow_square(5)"
      ],
      "metadata": {
        "colab": {
          "base_uri": "https://localhost:8080/"
        },
        "id": "9X9F2XLcxSzz",
        "outputId": "89bd51d8-1d99-4f26-ee62-3d05a0215212"
      },
      "execution_count": 8,
      "outputs": [
        {
          "output_type": "execute_result",
          "data": {
            "text/plain": [
              "['*****', '*   *', '*   *', '*   *', '*****']"
            ]
          },
          "metadata": {},
          "execution_count": 8
        }
      ]
    }
  ]
}