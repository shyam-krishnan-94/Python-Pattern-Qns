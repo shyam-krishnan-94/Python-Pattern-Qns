{
  "nbformat": 4,
  "nbformat_minor": 0,
  "metadata": {
    "colab": {
      "provenance": []
    },
    "kernelspec": {
      "name": "python3",
      "display_name": "Python 3"
    },
    "language_info": {
      "name": "python"
    }
  },
  "cells": [
    {
      "cell_type": "code",
      "execution_count": 9,
      "metadata": {
        "id": "wR3RAKhoB1kS"
      },
      "outputs": [],
      "source": [
        "def generate_floyds_triangle(n):\n",
        "    \"\"\"\n",
        "    Function to return the first n rows of Floyd's Triangle as a list of strings.\n",
        "\n",
        "    Parameters:\n",
        "    n (int): The number of rows in the triangle.\n",
        "\n",
        "    Returns:\n",
        "    list: A list of strings where each string represents a row of Floyd's Triangle.\n",
        "    \"\"\"\n",
        "    # Your code here\n",
        "    \"\"\"\n",
        "    Input is n-> number of rows\n",
        "    Output is a list of strings whose size increments as per the number of rows and each string will have the incrementing list of numbers\n",
        "\n",
        "    There should be one loop for the list element to increment and another loop to increment the numbers in the string\n",
        "\n",
        "    \"\"\"\n",
        "    Lst=[]\n",
        "    if (n>=1) and (n<=100):\n",
        "        end_pos=1\n",
        "        for i in range(1,n+1):\n",
        "            Lst2=[]\n",
        "            for j in range(end_pos,end_pos+i):\n",
        "                Lst2.append(j)\n",
        "            Lst.append(\" \".join(map(str,Lst2)))\n",
        "            end_pos=end_pos+i\n",
        "        return Lst\n",
        "    else:\n",
        "        return None"
      ]
    },
    {
      "cell_type": "code",
      "source": [
        "Lst=[]\n",
        "for i in range(1,3):\n",
        "  Lst2=[]\n",
        "  for j in range(i,i+i):\n",
        "    Lst2.append(j)\n",
        "  Lst.append(\"\".join(map(str,Lst2)))\n",
        "print(Lst)"
      ],
      "metadata": {
        "colab": {
          "base_uri": "https://localhost:8080/"
        },
        "id": "UF209BPZD6X5",
        "outputId": "8f87553d-79ec-464b-b311-9fadbf11fbd2"
      },
      "execution_count": 8,
      "outputs": [
        {
          "output_type": "stream",
          "name": "stdout",
          "text": [
            "['1', '23']\n"
          ]
        }
      ]
    },
    {
      "cell_type": "code",
      "source": [
        "print(generate_floyds_triangle(5))"
      ],
      "metadata": {
        "colab": {
          "base_uri": "https://localhost:8080/"
        },
        "id": "BYftIm3pB3eV",
        "outputId": "7274560b-23d6-4a37-da1d-9bcd2d99c08b"
      },
      "execution_count": 11,
      "outputs": [
        {
          "output_type": "stream",
          "name": "stdout",
          "text": [
            "['1', '2 3', '4 5 6', '7 8 9 10', '11 12 13 14 15']\n"
          ]
        }
      ]
    }
  ]
}