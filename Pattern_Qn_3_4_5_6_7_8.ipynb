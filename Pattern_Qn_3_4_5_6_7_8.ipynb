{
  "nbformat": 4,
  "nbformat_minor": 0,
  "metadata": {
    "colab": {
      "provenance": []
    },
    "kernelspec": {
      "name": "python3",
      "display_name": "Python 3"
    },
    "language_info": {
      "name": "python"
    }
  },
  "cells": [
    {
      "cell_type": "code",
      "execution_count": null,
      "metadata": {
        "id": "Fs40NYXhrz6u"
      },
      "outputs": [],
      "source": [
        "def generate_rectangle(n, m):\n",
        "    \"\"\"\n",
        "    Function to return a rectangle pattern of '*' with length n and breadth m as a list of strings.\n",
        "\n",
        "    Parameters:\n",
        "    n (int): The number of rows in the rectangle.\n",
        "    m (int): The number of columns in the rectangle.\n",
        "\n",
        "    Returns:\n",
        "    list: A list of strings where each string represents a row of the rectangle pattern.\n",
        "    \"\"\"\n",
        "    # Your code here\n",
        "    \"\"\"\n",
        "    Problem Analysis\n",
        "    ----------------\n",
        "\n",
        "    Inputs: n-> rows and m-> columns\n",
        "    constraints 1<=n,m<=100\n",
        "    Just one loop to iterate over as many times as number of rows and append the string into a list\n",
        "    \"\"\"\n",
        "    Lst=[]\n",
        "    if (n>=1 and n<=100) and (m>=1 and m<=100):\n",
        "        for i in range(0,n):\n",
        "            Lst.append(\"*\"*m)\n",
        "        return Lst\n",
        "    else:\n",
        "        return None\n"
      ]
    },
    {
      "cell_type": "code",
      "source": [
        "print(generate_rectangle(3,5))"
      ],
      "metadata": {
        "colab": {
          "base_uri": "https://localhost:8080/"
        },
        "id": "6eTe4C9rr2Ni",
        "outputId": "11a9d795-8cea-4320-cd7c-d5e2727e13bd"
      },
      "execution_count": null,
      "outputs": [
        {
          "output_type": "stream",
          "name": "stdout",
          "text": [
            "['*****', '*****', '*****']\n"
          ]
        }
      ]
    },
    {
      "cell_type": "code",
      "source": [
        "def generate_triangle(n):\n",
        "    \"\"\"\n",
        "    Function to return a right-angled triangle of '*' of side n as a list of strings.\n",
        "\n",
        "    Parameters:\n",
        "    n (int): The height and base of the triangle.\n",
        "\n",
        "    Returns:\n",
        "    list: A list of strings where each string represents a row of the triangle.\n",
        "    \"\"\"\n",
        "    # Your code here\n",
        "    \"\"\"\n",
        "    Inputs: n as an integer n>0\n",
        "    Output is a list with incrementing stars upto n\n",
        "    \"\"\"\n",
        "    Lst=[]\n",
        "    if n>0:\n",
        "        for i in range(1,n+1):\n",
        "            Lst.append(\"*\"*i)\n",
        "        return Lst\n",
        "    else:\n",
        "        return None"
      ],
      "metadata": {
        "id": "keJBcGkvsO6x"
      },
      "execution_count": null,
      "outputs": []
    },
    {
      "cell_type": "code",
      "source": [
        "print(generate_triangle(3))"
      ],
      "metadata": {
        "colab": {
          "base_uri": "https://localhost:8080/"
        },
        "id": "6sWpqxAvuqUo",
        "outputId": "8f6450b7-9427-485f-e184-c3475309363d"
      },
      "execution_count": null,
      "outputs": [
        {
          "output_type": "stream",
          "name": "stdout",
          "text": [
            "['*', '**', '***']\n"
          ]
        }
      ]
    },
    {
      "cell_type": "code",
      "source": [
        "def generate_inverted_triangle(n):\n",
        "    \"\"\"\n",
        "    Function to return an inverted right-angled triangle of '*' of side n as a list of strings.\n",
        "\n",
        "    Parameters:\n",
        "    n (int): The height and base of the triangle.\n",
        "\n",
        "    Returns:\n",
        "    list: A list of strings where each string represents a row of the triangle.\n",
        "    \"\"\"\n",
        "    # Your code here\n",
        "    Lst=[]\n",
        "    if n>0:\n",
        "        for i in range(0,n):\n",
        "            Lst.append(\"*\"*(n-i))\n",
        "        return Lst\n",
        "    else:\n",
        "        return None"
      ],
      "metadata": {
        "id": "-hsARJCCvVod"
      },
      "execution_count": null,
      "outputs": []
    },
    {
      "cell_type": "code",
      "source": [
        "print(generate_inverted_triangle(4))"
      ],
      "metadata": {
        "colab": {
          "base_uri": "https://localhost:8080/"
        },
        "id": "MtckzVoyvXXp",
        "outputId": "268f48b2-4a6e-472f-984c-b2e94d237652"
      },
      "execution_count": null,
      "outputs": [
        {
          "output_type": "stream",
          "name": "stdout",
          "text": [
            "['****', '***', '**', '*']\n"
          ]
        }
      ]
    },
    {
      "cell_type": "code",
      "source": [
        "def generate_pyramid(n):\n",
        "    \"\"\"\n",
        "    Function to return a pyramid pattern of '*' of side n as a list of strings.\n",
        "\n",
        "    Parameters:\n",
        "    n (int): The number of rows in the pyramid.\n",
        "\n",
        "    Returns:\n",
        "    list: A list of strings where each string represents a row of the pyramid.\n",
        "    \"\"\"\n",
        "    # Your code here\n",
        "    \"\"\"\n",
        "    Pseudo code:\n",
        "    Base of pyramid has 2n-1 stars where n represents the number of rows\n",
        "    The pattern of stars follows an arithmetic progression of 1,3,5 ,---\n",
        "    The remaining spaces has to be concatenated with stars by equally dividing them\n",
        "    \"\"\"\n",
        "    Lst=[]\n",
        "    if(n>=1 and n<=100):\n",
        "        for i in range(1,n+1):\n",
        "            Lst.append((n-i)*\" \"+\"*\"*((2*i)-1)+(n-i)*\" \")\n",
        "        return Lst\n",
        "    else:\n",
        "        return None"
      ],
      "metadata": {
        "id": "6vSKua_50Ptj"
      },
      "execution_count": null,
      "outputs": []
    },
    {
      "cell_type": "code",
      "source": [
        "print(generate_pyramid(4))"
      ],
      "metadata": {
        "colab": {
          "base_uri": "https://localhost:8080/"
        },
        "id": "16q53wJK0Sgv",
        "outputId": "e716291c-c487-4767-f402-c2591a87f72c"
      },
      "execution_count": null,
      "outputs": [
        {
          "output_type": "stream",
          "name": "stdout",
          "text": [
            "['   *   ', '  ***  ', ' ***** ', '*******']\n"
          ]
        }
      ]
    },
    {
      "cell_type": "code",
      "source": [
        "def generate_inverted_pyramid(n):\n",
        "    \"\"\"\n",
        "    Function to return an inverted pyramid pattern of '*' of side n as a list of strings.\n",
        "\n",
        "    Parameters:\n",
        "    n (int): The number of rows in the inverted pyramid.\n",
        "\n",
        "    Returns:\n",
        "    list: A list of strings where each string represents a row of the inverted pyramid.\n",
        "    \"\"\"\n",
        "    # Your code here\n",
        "    Lst=[]\n",
        "    if(n>=1 and n<=100):\n",
        "        for i in range(n,0,-1):\n",
        "            Lst.append((n-i)*\" \"+\"*\"*((2*i)-1)+(n-i)*\" \")\n",
        "        return Lst\n",
        "    else:\n",
        "        return None"
      ],
      "metadata": {
        "id": "6M4rLkOl-BBP"
      },
      "execution_count": 2,
      "outputs": []
    },
    {
      "cell_type": "code",
      "source": [
        "print(generate_inverted_pyramid(4))"
      ],
      "metadata": {
        "colab": {
          "base_uri": "https://localhost:8080/"
        },
        "id": "-p_7p6UR-EvN",
        "outputId": "1427c232-0ba4-4360-f3ce-02e1b9c60f4f"
      },
      "execution_count": 3,
      "outputs": [
        {
          "output_type": "stream",
          "name": "stdout",
          "text": [
            "['*******', ' ***** ', '  ***  ', '   *   ']\n"
          ]
        }
      ]
    },
    {
      "cell_type": "code",
      "source": [
        "def generate_number_triangle(n):\n",
        "    \"\"\"\n",
        "    Function to return a right-angled triangle of repeated numbers of side n as a list of strings.\n",
        "\n",
        "    Parameters:\n",
        "    n (int): The height of the triangle.\n",
        "\n",
        "    Returns:\n",
        "    list: A list of strings where each string represents a row of the triangle.\n",
        "    \"\"\"\n",
        "    # Your code here\n",
        "    \"\"\"\n",
        "    n ->(1,100)\n",
        "    n->5\n",
        "\n",
        "\n",
        "    \"\"\"\n",
        "    Lst1=[]\n",
        "    if(n>=1 and n<=100):\n",
        "        for i in range(1,n+1):\n",
        "            Lst2=[]\n",
        "            for j in range(1,i+1):\n",
        "                Lst2.append(i)\n",
        "            Lst1.append(\"\".join(map(str,Lst2)))\n",
        "        return Lst1\n",
        "    else:\n",
        "        return None"
      ],
      "metadata": {
        "id": "iCL5XE6LFVV8"
      },
      "execution_count": 32,
      "outputs": []
    },
    {
      "cell_type": "code",
      "source": [
        "print(generate_number_triangle(4))"
      ],
      "metadata": {
        "colab": {
          "base_uri": "https://localhost:8080/"
        },
        "id": "hHTKLwimFmo7",
        "outputId": "df6c0ba4-e173-4725-99e1-f38f4c4c2136"
      },
      "execution_count": 33,
      "outputs": [
        {
          "output_type": "stream",
          "name": "stdout",
          "text": [
            "['1', '22', '333', '4444']\n"
          ]
        }
      ]
    }
  ]
}