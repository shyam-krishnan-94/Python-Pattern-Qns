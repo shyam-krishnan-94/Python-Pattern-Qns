{
  "nbformat": 4,
  "nbformat_minor": 0,
  "metadata": {
    "colab": {
      "provenance": []
    },
    "kernelspec": {
      "name": "python3",
      "display_name": "Python 3"
    },
    "language_info": {
      "name": "python"
    }
  },
  "cells": [
    {
      "cell_type": "code",
      "execution_count": 1,
      "metadata": {
        "id": "rBEo3OYieNK7"
      },
      "outputs": [],
      "source": [
        "def generate_right_angled_triangle(n):\n",
        "    \"\"\"\n",
        "    Function to return a right-angled triangle of '*' of side n as a list of strings.\n",
        "\n",
        "    Parameters:\n",
        "    n (int): The height of the triangle.\n",
        "\n",
        "    Returns:\n",
        "    list: A list of strings where each string represents a row of the triangle.\n",
        "    \"\"\"\n",
        "    # Your code here\n",
        "    Lst=[]\n",
        "    if n>=1 and n<=100:\n",
        "        for i in range(1,n+1):\n",
        "            num_spaces=n-i\n",
        "            num_stars=i\n",
        "            Lst.append(\" \"*num_spaces+\"*\"*num_stars)\n",
        "        return Lst\n",
        "    return None\n"
      ]
    },
    {
      "cell_type": "code",
      "source": [
        "print(generate_right_angled_triangle(5))"
      ],
      "metadata": {
        "colab": {
          "base_uri": "https://localhost:8080/"
        },
        "id": "JGsoevCjeTXE",
        "outputId": "7f93ad55-47e1-4249-9285-21eba250475b"
      },
      "execution_count": 2,
      "outputs": [
        {
          "output_type": "stream",
          "name": "stdout",
          "text": [
            "['    *', '   **', '  ***', ' ****', '*****']\n"
          ]
        }
      ]
    }
  ]
}