{
  "nbformat": 4,
  "nbformat_minor": 0,
  "metadata": {
    "colab": {
      "provenance": []
    },
    "kernelspec": {
      "name": "python3",
      "display_name": "Python 3"
    },
    "language_info": {
      "name": "python"
    }
  },
  "cells": [
    {
      "cell_type": "code",
      "execution_count": 1,
      "metadata": {
        "id": "YWBHQyy4bHWw"
      },
      "outputs": [],
      "source": [
        "def generate_hollow_right_angled_triangle(n):\n",
        "    \"\"\"\n",
        "    Function to return a hollow right-angled triangle of '*' of side n as a list of strings.\n",
        "\n",
        "    Parameters:\n",
        "    n (int): The height of the triangle.\n",
        "\n",
        "    Returns:\n",
        "    list: A list of strings where each string represents a row of the triangle.\n",
        "    \"\"\"\n",
        "    # Your code here\n",
        "    Lst=[]\n",
        "    if n>=1 and n<=100:\n",
        "        for i in range(1,n+1):\n",
        "            if i==1:\n",
        "                Lst.append(\"*\"*i)\n",
        "            elif i==n:\n",
        "                Lst.append(\"*\"*n)\n",
        "            else:\n",
        "                Lst.append(\"*\"+\" \"*(i-2)+\"*\")\n",
        "        return Lst\n",
        "    return None\n"
      ]
    },
    {
      "cell_type": "code",
      "source": [
        "print(generate_hollow_right_angled_triangle(5))"
      ],
      "metadata": {
        "colab": {
          "base_uri": "https://localhost:8080/"
        },
        "id": "Zb4LXbUbbKly",
        "outputId": "f8cfdb40-05b9-4110-ca93-cfe06a820cb0"
      },
      "execution_count": 2,
      "outputs": [
        {
          "output_type": "stream",
          "name": "stdout",
          "text": [
            "['*', '**', '* *', '*  *', '*****']\n"
          ]
        }
      ]
    }
  ]
}